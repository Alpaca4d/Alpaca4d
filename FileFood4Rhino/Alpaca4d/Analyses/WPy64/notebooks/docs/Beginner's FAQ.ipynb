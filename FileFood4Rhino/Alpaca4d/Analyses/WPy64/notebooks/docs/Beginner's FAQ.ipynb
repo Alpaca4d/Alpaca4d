{
 "cells": [
  {
   "cell_type": "markdown",
   "metadata": {},
   "source": [
    "# Experimenting your Winpython installation\n",
    "\n",
    "  . [Winpython_checker test, to see various packages](Winpython_checker.ipynb) \n",
    "  \n",
    "  . [Seaborn visualization Example](seaborn_demo_from_jakevdp.ipynb)\n",
    "  \n",
    "  . [QT libraries Example](Qt_libraries_demo.ipynb)\n",
    "\n",
    "  . [Pandas Data-science example](dplyr_pandas.ipynb)"
   ]
  },
  {
   "cell_type": "markdown",
   "metadata": {},
   "source": [
    "# Tutorials and Demonstrations on Internet\n",
    "\n",
    "\n",
    "## Introduction to DataScience\n",
    "  . [Python Data Science Handbook](https://github.com/jakevdp/PythonDataScienceHandbook/blob/master/README.md)\n"
   ]
  },
  {
   "cell_type": "markdown",
   "metadata": {},
   "source": [
    "## Games and Statistics\n",
    "  . [Pythonic Perambulations](http://jakevdp.github.io) from Jake Vanderplas, in particular http://jakevdp.github.io/blog/2017/12/18/simulating-chutes-and-ladders/\n",
    "  \n",
    "  . [Peter Norvig Studies](https://github.com/norvig/pytudes/tree/master/ipynb) from Peter Norvig, in particular  http://norvig.com/sudoku.html"
   ]
  },
  {
   "cell_type": "markdown",
   "metadata": {},
   "source": [
    "## Ipython Notebook Documentation\n",
    " \n",
    " . [IPython notebook-based online documentation](https://nbviewer.ipython.org/github/ipython/ipython/blob/master/examples/Index.ipynb)\n",
    " \n",
    " . [Galery of Interesting Notebooks](https://github.com/ipython/ipython/wiki/A-gallery-of-interesting-IPython-Notebooks)\n",
    " \n",
    " . Videos of Conferences and Trainings: [Europython](https://www.youtube.com/user/PythonItalia/playlists?shelf_id=4&view=50&sort=dd), [Pydata](https://www.youtube.com/user/PyDataTV) , [Scipy](https://www.youtube.com/user/EnthoughtMedia), [EuroScipy](https://www.youtube.com/channel/UCruMegFU9dg2doEGOUaAWTg), [Pycon 2018](https://www.youtube.com/channel/UCsX05-2sVSH7Nx3zuk3NYuQ/featured) , [Pycon 2017](https://www.youtube.com/channel/UCrJhliKNQ8g0qoE_zvL8eVg), [Pycon 2016](https://www.youtube.com/channel/UCwTD5zJbsQGJN75MwbykYNw)\n",
    " "
   ]
  },
  {
   "cell_type": "markdown",
   "metadata": {},
   "source": [
    "## Pandas\n",
    "\n",
    ". Beginners Training Video: [\"Brandon Rhodes - Pandas From The Ground Up - PyCon 2015 \"](https://www.youtube.com/watch?v=5JnMutdy6Fw)\n",
    "\n",
    ". Pandas [API reference](https://pandas.pydata.org/pandas-docs/stable/api.html)\n"
   ]
  },
  {
   "cell_type": "markdown",
   "metadata": {},
   "source": [
    "## Graphics :\n",
    "\n",
    " . Matplotlib : [Beginner's guide](https://matplotlib.org/users/beginner.html) , [Gallery](https://matplotlib.org/gallery.html) ,  [General Content](https://matplotlib.org/contents.html) \n",
    " \n",
    " . seaborn : [Tutorial](https://stanford.edu/~mwaskom/software/seaborn/tutorial.html) , [Gallery](https://stanford.edu/~mwaskom/software/seaborn/examples/index.html)\n",
    " \n",
    " . scikit-image : [Gallery](https://scikit-image.org/docs/dev/auto_examples/), [User Guide](https://scikit-image.org/docs/dev/user_guide.html)\n",
    "  \n",
    " . holoviews : [Introduction](https://ioam.github.io/holoviews) , [Tutorials](https://ioam.github.io/holoviews/Tutorials/index.html)\n",
    " \n",
    " . bqplot: [Introduction](https://bqplot.readthedocs.io/en/stable/introduction.html)\n",
    " \n",
    " . Altair: [Introduction]](https://altair-viz.github.io/)\n",
    "  \n",
    " . plotnine :   [Gallery](https://plotnine.readthedocs.io/en/stable/gallery.html) , [Tutotials](https://github.com/has2k1/plotnine/blob/master/doc/external-resources.rst)\n",
    " \n",
    " . hvplot : [Gallery](https://hvplot.pyviz.org/)\n",
    "\n",
    " . PyQtGraph : [Gallery](http://www.pyqtgraph.org/)\n",
    " "
   ]
  },
  {
   "cell_type": "markdown",
   "metadata": {},
   "source": [
    "## SQL\n",
    "  . IPython-SQL : [Tutorial](https://nbviewer.ipython.org/gist/catherinedevlin/6588378)\n",
    "  \n",
    "  . db.py : [Tutorial](https://nbviewer.ipython.org/github/yhat/db.py/blob/master/examples/db-example.ipynb)\n",
    "  \n",
    "  . baresql : [Tutorial](https://pypi.python.org/pypi/baresql)\n"
   ]
  },
  {
   "cell_type": "markdown",
   "metadata": {},
   "source": [
    "\n",
    "\n",
    "## Machine learning / Deep Learning\n",
    " . scikit-learn : [Tutorial](https://scikit-learn.org/stable/tutorial/index.html) , [Gallery](https://scikit-learn.org/stable/auto_examples/index.html)\n",
    " \n",
    " . Theano: [Tutorial](https://deeplearning.net/software/theano/tutorial/), [Related Projects](https://github.com/Theano/Theano/wiki/Related-projects)\n",
    " \n",
    " . Keras: [Introduction]](https://keras.io/)\n",
    "\n",
    " . Tensorflow: [Tutorial](https://github.com/Hvass-Labs/TensorFlow-Tutorials) with [videos](https://www.youtube.com/playlist?list=PL9Hr9sNUjfsmEu1ZniY0XpHSzl5uihcXZ)"
   ]
  },
  {
   "cell_type": "markdown",
   "metadata": {},
   "source": [
    "\n",
    "\n",
    "## Qt User Interface Development :\n",
    "\n",
    " . PyQt4 tutorial: https://zetcode.com/gui/pyqt4/firstprograms/\n",
    " \n",
    " . PyQt5 tutorial:  https://zetcode.com/gui/pyqt5/firstprograms/\n",
    " \n",
    " . guiqwt tutorial: https://pythonhosted.org/guiqwt/examples.html .\n",
    " \n",
    "  . switching from guiqwt 2 to 3: https://github.com/PierreRaybaut/guiqwt/blob/master/doc/migrating_from_v2_to_v3.rst)\n",
    " \n",
    " . guidata: https://pythonhosted.org/guidata/examples.html\n",
    " \n",
    " "
   ]
  },
  {
   "cell_type": "markdown",
   "metadata": {},
   "source": [
    "\n",
    "## Winpython\n",
    "\n",
    ". [Winpython Discussion Group](https://groups.google.com/forum/#!forum/winpython)\n",
    "  \n",
    ". [Other Winpython examples](http://nbviewer.ipython.org/github/winpython/winpython_afterdoc/tree/master/)\n"
   ]
  },
  {
   "cell_type": "code",
   "execution_count": null,
   "metadata": {},
   "outputs": [],
   "source": []
  }
 ],
 "metadata": {
  "kernelspec": {
   "display_name": "Python 3",
   "language": "python",
   "name": "python3"
  },
  "language_info": {
   "codemirror_mode": {
    "name": "ipython",
    "version": 3
   },
   "file_extension": ".py",
   "mimetype": "text/x-python",
   "name": "python",
   "nbconvert_exporter": "python",
   "pygments_lexer": "ipython3",
   "version": "3.7.0"
  }
 },
 "nbformat": 4,
 "nbformat_minor": 1
}
